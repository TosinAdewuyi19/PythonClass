{
 "cells": [
  {
   "cell_type": "code",
   "execution_count": 1,
   "id": "1c40629e-498a-4e98-a198-1ccf81007968",
   "metadata": {},
   "outputs": [
    {
     "name": "stdout",
     "output_type": "stream",
     "text": [
      "hello world\n"
     ]
    }
   ],
   "source": [
    "%pwd"
   ]
  },
  {
   "cell_type": "code",
   "execution_count": 2,
   "id": "91c5c057-9f5a-4c9a-8e55-00a915c02efc",
   "metadata": {},
   "outputs": [
    {
     "ename": "SyntaxError",
     "evalue": "invalid syntax (2579039361.py, line 5)",
     "output_type": "error",
     "traceback": [
      "\u001b[1;36m  Cell \u001b[1;32mIn[2], line 5\u001b[1;36m\u001b[0m\n\u001b[1;33m    records = [json.load.(line) for ine in open(path)]\u001b[0m\n\u001b[1;37m                         ^\u001b[0m\n\u001b[1;31mSyntaxError\u001b[0m\u001b[1;31m:\u001b[0m invalid syntax\n"
     ]
    }
   ],
   "source": [
    "path = 'ch02/usagov_bitly_data2012-03-16-133192349.text'\n",
    "open(path).readline()\n",
    "import json\n",
    "path = 'ch02/usagov_bitly_data2012-03-16-133192349.text'\n",
    "records = [json.load.(line) for ine in open(path)]\n",
    "recordsL[0]\n",
    "records[0]['tz']\n",
    "print(records[0]['tz']"
   ]
  },
  {
   "cell_type": "code",
   "execution_count": null,
   "id": "dfb8d306-16a0-47e1-8955-af8643b54f79",
   "metadata": {},
   "outputs": [],
   "source": []
  }
 ],
 "metadata": {
  "kernelspec": {
   "display_name": "Python 3 (ipykernel)",
   "language": "python",
   "name": "python3"
  },
  "language_info": {
   "codemirror_mode": {
    "name": "ipython",
    "version": 3
   },
   "file_extension": ".py",
   "mimetype": "text/x-python",
   "name": "python",
   "nbconvert_exporter": "python",
   "pygments_lexer": "ipython3",
   "version": "3.13.0"
  }
 },
 "nbformat": 4,
 "nbformat_minor": 5
}
